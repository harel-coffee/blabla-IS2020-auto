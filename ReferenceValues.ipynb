{
 "cells": [
  {
   "cell_type": "markdown",
   "metadata": {},
   "source": [
    "# BlaBla AMI reference values"
   ]
  },
  {
   "cell_type": "markdown",
   "metadata": {},
   "source": [
    "Calculation of BlaBla reference means and standard deviations on a single-speaker transcripts from a subset of the AMI corpus."
   ]
  },
  {
   "cell_type": "markdown",
   "metadata": {},
   "source": [
    "## Setup"
   ]
  },
  {
   "cell_type": "code",
   "execution_count": null,
   "metadata": {},
   "outputs": [],
   "source": [
    "import pandas as pd\n",
    "import numpy as np\n",
    "from tqdm import tqdm"
   ]
  },
  {
   "cell_type": "markdown",
   "metadata": {},
   "source": [
    "The AMI corpus can be found [here](http://groups.inf.ed.ac.uk/ami/corpus/). Single-speaker transcripts can be extracted and then analyzed using the BlaBla CLI to extract all linguistic features:\n",
    "```\n",
    "blabla compute-features -F example_configs/features.yaml -S stanza_config/stanza_config.yaml -i ./ami_transcripts -o blabla_ami_features.csv -format string\n",
    "```"
   ]
  },
  {
   "cell_type": "code",
   "execution_count": null,
   "metadata": {},
   "outputs": [],
   "source": [
    "features_csv = 'blabla_ami_features.csv'"
   ]
  },
  {
   "cell_type": "markdown",
   "metadata": {},
   "source": [
    "## Load/prepare the data"
   ]
  },
  {
   "cell_type": "code",
   "execution_count": null,
   "metadata": {},
   "outputs": [],
   "source": [
    "blabla_values_ami = pd.read_csv(features_csv)"
   ]
  },
  {
   "cell_type": "code",
   "execution_count": null,
   "metadata": {},
   "outputs": [],
   "source": [
    "feature_list = blabla_values_ami.columns.tolist()\n",
    "print(f'{len(feature_list):,} features')"
   ]
  },
  {
   "cell_type": "markdown",
   "metadata": {},
   "source": [
    "Some features can be undefined following reference implementations. To extract statistics ignoring these, we replace `inf`s by `nan`s to later use `np.nanmean` etc."
   ]
  },
  {
   "cell_type": "code",
   "execution_count": null,
   "metadata": {},
   "outputs": [],
   "source": [
    "blabla_values_ami = blabla_values_ami.replace([np.inf, -np.inf], np.nan)"
   ]
  },
  {
   "cell_type": "markdown",
   "metadata": {},
   "source": [
    "## Calculate the reference values"
   ]
  },
  {
   "cell_type": "code",
   "execution_count": null,
   "metadata": {
    "scrolled": true
   },
   "outputs": [],
   "source": [
    "reference_values_dict = {}\n",
    "for feature in tqdm(feature_list, desc='Calculating reference values'):\n",
    "    ref_mean   = np.nanmean(blabla_values_ami[feature])\n",
    "    ref_std    = np.nanstd(blabla_values_ami[feature])\n",
    "    reference_values_dict[feature] = [ref_mean, ref_std]"
   ]
  },
  {
   "cell_type": "code",
   "execution_count": null,
   "metadata": {
    "scrolled": true
   },
   "outputs": [],
   "source": [
    "reference_values_df = pd.DataFrame.from_dict(reference_values_dict)\n",
    "reference_values_df.index = ['mean', 'std']\n",
    "reference_values_df.head()"
   ]
  }
 ],
 "metadata": {
  "kernelspec": {
   "display_name": "Python 3",
   "language": "python",
   "name": "python3"
  },
  "language_info": {
   "codemirror_mode": {
    "name": "ipython",
    "version": 3
   },
   "file_extension": ".py",
   "mimetype": "text/x-python",
   "name": "python",
   "nbconvert_exporter": "python",
   "pygments_lexer": "ipython3",
   "version": "3.7.3"
  }
 },
 "nbformat": 4,
 "nbformat_minor": 4
}
