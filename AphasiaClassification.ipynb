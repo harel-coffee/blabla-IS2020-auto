{
 "cells": [
  {
   "cell_type": "markdown",
   "metadata": {},
   "source": [
    "# BlaBla cross-language aphasia classification task"
   ]
  },
  {
   "cell_type": "markdown",
   "metadata": {},
   "source": [
    "Example cross-language classification task using BlaBla features."
   ]
  },
  {
   "cell_type": "code",
   "execution_count": null,
   "metadata": {},
   "outputs": [],
   "source": [
    "import pandas as pd\n",
    "import numpy as np\n",
    "from sklearn.svm import LinearSVC\n",
    "from sklearn.preprocessing import StandardScaler\n",
    "from sklearn.feature_selection import RFE\n",
    "from sklearn.model_selection import train_test_split\n",
    "from sklearn.metrics import classification_report\n",
    "from sklearn.utils import shuffle"
   ]
  },
  {
   "cell_type": "markdown",
   "metadata": {},
   "source": [
    "## Load the data"
   ]
  },
  {
   "cell_type": "markdown",
   "metadata": {},
   "source": [
    "We do not provide public access to the following files to protect patient privacy. For more information about accessing AphasiaBank data, see [this page](https://aphasia.talkbank.org/)."
   ]
  },
  {
   "cell_type": "code",
   "execution_count": 3,
   "metadata": {},
   "outputs": [],
   "source": [
    "def load_ab_data(path, task, print_info=False):\n",
    "    df_ab = pd.read_csv(path)\n",
    "    \n",
    "    if print_info:\n",
    "        print(df_ab['task'].value_counts())\n",
    "        \n",
    "    df_ab = df_ab[df_ab['task'] == task]\n",
    "    \n",
    "    if print_info:\n",
    "        print(df_ab.group.value_counts())\n",
    "        \n",
    "    return df_ab"
   ]
  },
  {
   "cell_type": "markdown",
   "metadata": {},
   "source": [
    "Load the English AphasiaBank data."
   ]
  },
  {
   "cell_type": "code",
   "execution_count": null,
   "metadata": {},
   "outputs": [],
   "source": [
    "df_eng_ab = load_ab_data(\n",
    "    path='features_aphasiabank_english.csv',\n",
    "    task='Cinderella',\n",
    "    print_info=True,\n",
    ")"
   ]
  },
  {
   "cell_type": "markdown",
   "metadata": {},
   "source": [
    "Load the French AphasiaBank data."
   ]
  },
  {
   "cell_type": "code",
   "execution_count": null,
   "metadata": {},
   "outputs": [],
   "source": [
    "df_fre_ab = load_ab_data(\n",
    "    path='features_aphasiabank_french.csv',\n",
    "    task='Cinderella',\n",
    "    print_info=True,\n",
    ")"
   ]
  },
  {
   "cell_type": "markdown",
   "metadata": {},
   "source": [
    "Load the Mandarin AphasiaBank data."
   ]
  },
  {
   "cell_type": "code",
   "execution_count": null,
   "metadata": {},
   "outputs": [],
   "source": [
    "df_man_ab = load_ab_data(\n",
    "    path='features_aphasiabank_mandarin.csv',\n",
    "    task='Cry_Wolf',\n",
    "    print_info=True,\n",
    ")"
   ]
  },
  {
   "cell_type": "markdown",
   "metadata": {},
   "source": [
    "## Grouping"
   ]
  },
  {
   "cell_type": "code",
   "execution_count": null,
   "metadata": {},
   "outputs": [],
   "source": [
    "def get_class(row):\n",
    "    if row.group in ['wernicke', 'anomic', 'conduction', 'broca', 'transmotor', 'global', 'aphasia', 'aa', 'ca', 'tma']:\n",
    "        return 'aphasia'\n",
    "    if row.group in ['control', 'normal']:\n",
    "        return 'control'\n",
    "    return 'None'\n",
    "\n",
    "def get_fluency_class(row):\n",
    "    if row.group in ['wernicke', 'anomic', 'conduction', 'aa', 'ca']:\n",
    "        return 'fluent_aphasia'\n",
    "    if row.group in ['broca', 'transmotor', 'global', 'tma']:\n",
    "        return 'nonfluent_aphasia'\n",
    "    if row.group in ['control', 'normal']:\n",
    "        return 'control'\n",
    "    return 'None'"
   ]
  },
  {
   "cell_type": "markdown",
   "metadata": {},
   "source": [
    "Get the classifier classes and fluency-granularity classes for inspection."
   ]
  },
  {
   "cell_type": "code",
   "execution_count": null,
   "metadata": {},
   "outputs": [],
   "source": [
    "df_eng_ab['class'] = df_eng_ab.apply(lambda row: get_class(row), axis=1)\n",
    "df_fre_ab['class'] = df_fre_ab.apply(lambda row: get_class(row), axis=1)\n",
    "df_man_ab['class'] = df_man_ab.apply(lambda row: get_class(row), axis=1)\n",
    "\n",
    "df_eng_ab['fluency_class'] = df_eng_ab.apply(lambda row: get_fluency_class(row), axis=1)\n",
    "df_fre_ab['fluency_class'] = df_fre_ab.apply(lambda row: get_fluency_class(row), axis=1)\n",
    "df_man_ab['fluency_class'] = df_man_ab.apply(lambda row: get_fluency_class(row), axis=1)"
   ]
  },
  {
   "cell_type": "markdown",
   "metadata": {},
   "source": [
    "Use only features well-defined for English, French and Mandarin and exclude those that scale linearly with transcript length."
   ]
  },
  {
   "cell_type": "code",
   "execution_count": null,
   "metadata": {},
   "outputs": [],
   "source": [
    "features = [\n",
    "    'noun_rate', \n",
    "    'verb_rate', \n",
    "    'adjective_rate', \n",
    "    'pronoun_rate', \n",
    "    'adverb_rate', \n",
    "    'conjunction_rate', \n",
    "    'possessive_rate', \n",
    "    'noun_verb_ratio', \n",
    "    'noun_ratio',\n",
    "    'pronoun_noun_ratio', \n",
    "    'prop_close_class_words',\n",
    "    'prop_open_class_words',\n",
    "    'content_density', \n",
    "    'idea_density',\n",
    "    'honore_statistic',\n",
    "    'brunet_index',\n",
    "    'type_token_ratio',\n",
    "    'mean_word_length', \n",
    "    'prop_auxiliary_verbs',\n",
    "    'prop_nouns_with_det',\n",
    "    'prop_nouns_with_adjectives',\n",
    "    'noun_phrases_rate',\n",
    "    'verb_phrases_rate',\n",
    "    'prepositional_phrases_rate',\n",
    "    'dependent_clauses_rate',\n",
    "    'max_yngve_depth',\n",
    "    'mean_yngve_depth',\n",
    "    'total_yngve_depth',\n",
    "    'const_pt_height',\n",
    "    'discourse_markers_rate'\n",
    "]"
   ]
  },
  {
   "cell_type": "markdown",
   "metadata": {},
   "source": [
    "Extract the features with the lasses and drop any rows with undefined features."
   ]
  },
  {
   "cell_type": "code",
   "execution_count": null,
   "metadata": {},
   "outputs": [],
   "source": [
    "df_eng_ab_class = df_eng_ab[features+['class']].dropna()\n",
    "df_fre_ab_class = df_fre_ab[features+['class']].dropna()\n",
    "df_man_ab_class = df_man_ab[features+['class']].dropna()"
   ]
  },
  {
   "cell_type": "markdown",
   "metadata": {},
   "source": [
    "Inspect the class and fluency class composition of the sets."
   ]
  },
  {
   "cell_type": "code",
   "execution_count": null,
   "metadata": {},
   "outputs": [],
   "source": [
    "print(df_eng_ab['class'].value_counts())\n",
    "print(df_eng_ab['fluency_class'].value_counts())"
   ]
  },
  {
   "cell_type": "code",
   "execution_count": null,
   "metadata": {},
   "outputs": [],
   "source": [
    "print(df_fre_ab['class'].value_counts())\n",
    "print(df_fre_ab['fluency_class'].value_counts())"
   ]
  },
  {
   "cell_type": "code",
   "execution_count": null,
   "metadata": {},
   "outputs": [],
   "source": [
    "print(df_man_ab['class'].value_counts())\n",
    "print(df_man_ab['fluency_class'].value_counts())"
   ]
  },
  {
   "cell_type": "markdown",
   "metadata": {},
   "source": [
    "## Get balanced subsets"
   ]
  },
  {
   "cell_type": "markdown",
   "metadata": {},
   "source": [
    "For simplicity, construct balanced subsets for training and testing."
   ]
  },
  {
   "cell_type": "code",
   "execution_count": null,
   "metadata": {},
   "outputs": [],
   "source": [
    "def get_balanced_subset(df):\n",
    "    df_shuf = df.sample(frac=1, random_state=42)\n",
    "    df_aphasic = df_shuf[df_shuf['class'] == 'aphasia']\n",
    "    df_control = df_shuf[df_shuf['class'] == 'control']\n",
    "    \n",
    "    num_samples = min(len(df_aphasic), len(df_control))\n",
    "    print(f'Taking {num_samples:,} samples each from {len(df_aphasic):,} aphasia and {len(df_control):,} control samples')\n",
    "    \n",
    "    return df_aphasic[:num_samples], df_control[:num_samples]"
   ]
  },
  {
   "cell_type": "code",
   "execution_count": null,
   "metadata": {},
   "outputs": [],
   "source": [
    "df_eng_aph, df_eng_contr = get_balanced_subset(df_eng_ab_class)\n",
    "df_fre_aph, df_fre_contr = get_balanced_subset(df_fre_ab_class)\n",
    "df_man_aph, df_man_contr = get_balanced_subset(df_man_ab_class)"
   ]
  },
  {
   "cell_type": "code",
   "execution_count": null,
   "metadata": {},
   "outputs": [],
   "source": [
    "X_eng = pd.concat((df_eng_aph, df_eng_contr), axis=0)[feature_list]\n",
    "y_eng = [True]*len(df_eng_aph) + [False]*len(df_eng_contr)\n",
    "X_eng_train, X_eng_test, y_eng_train, y_eng_test = train_test_split(X_eng, y_eng, test_size=0.15, random_state=42, stratify=y_eng)"
   ]
  },
  {
   "cell_type": "code",
   "execution_count": null,
   "metadata": {},
   "outputs": [],
   "source": [
    "X_fre = pd.concat((df_fre_aph, df_fre_contr), axis=0)[feature_list]\n",
    "y_fre = [True]*len(df_fre_aph) + [False]*len(df_fre_contr)"
   ]
  },
  {
   "cell_type": "code",
   "execution_count": null,
   "metadata": {},
   "outputs": [],
   "source": [
    "X_man = pd.concat((df_man_aph, df_man_contr), axis=0)[feature_list]\n",
    "y_man = [True]*len(df_man_aph) + [False]*len(df_man_contr)"
   ]
  },
  {
   "cell_type": "markdown",
   "metadata": {},
   "source": [
    "## Train classifier"
   ]
  },
  {
   "cell_type": "markdown",
   "metadata": {},
   "source": [
    "Train on English train set."
   ]
  },
  {
   "cell_type": "code",
   "execution_count": null,
   "metadata": {},
   "outputs": [],
   "source": [
    "scaler = StandardScaler()\n",
    "X_eng_train_scaled = scaler.fit_transform(X_eng_train)\n",
    "\n",
    "estimator = LinearSVC(random_state=42, max_iter=10000)\n",
    "selector = RFE(estimator, n_features_to_select=5)\n",
    "selector = selector.fit(X_eng_train_scaled, y_eng_train)"
   ]
  },
  {
   "cell_type": "markdown",
   "metadata": {},
   "source": [
    "Inspect important features."
   ]
  },
  {
   "cell_type": "code",
   "execution_count": null,
   "metadata": {},
   "outputs": [],
   "source": [
    "feats = [x for i, x in enumerate(selected_columns) if selector.support_[i]]\n",
    "ranked_features = list(zip(feats, selector.estimator_.coef_[0]))\n",
    "ranked_features.sort(key=lambda x: abs(x[1]), reverse=True)\n",
    "\n",
    "for i, (feature, coef) in enumerate(ranked_features):\n",
    "    print(i+1, feature, coef)"
   ]
  },
  {
   "cell_type": "markdown",
   "metadata": {},
   "source": [
    "Validate on English test set."
   ]
  },
  {
   "cell_type": "code",
   "execution_count": null,
   "metadata": {},
   "outputs": [],
   "source": [
    "X_eng_test_scaled  = scaler.transform(X_eng_test)\n",
    "y_eng_test_pred = selector.predict(X_eng_test_scaled)\n",
    "print(classification_report(y_eng_test, y_eng_test_pred, target_names=['Control', 'Aphasia'], digits=4))\n",
    "print('Baseline accuracy', max(np.mean(y_eng_test), 1-np.mean(y_eng_test)))"
   ]
  },
  {
   "cell_type": "markdown",
   "metadata": {},
   "source": [
    "Validate on French test set."
   ]
  },
  {
   "cell_type": "code",
   "execution_count": null,
   "metadata": {},
   "outputs": [],
   "source": [
    "X_fre_scaled = scaler.transform(X_fre)\n",
    "y_fre_pred = selector.predict(X_fre_scaled)\n",
    "print(classification_report(y_fre, y_fre_pred, target_names=['Control', 'Aphasia'], digits=4))\n",
    "print('Baseline accuracy', max(np.mean(y_fre), 1-np.mean(y_fre)))"
   ]
  },
  {
   "cell_type": "markdown",
   "metadata": {},
   "source": [
    "Validate on Mandarin test set."
   ]
  },
  {
   "cell_type": "code",
   "execution_count": null,
   "metadata": {},
   "outputs": [],
   "source": [
    "X_man_scaled = scaler.transform(X_man)\n",
    "y_man_pred = selector.predict(X_man_scaled)\n",
    "print(classification_report(y_man, y_man_pred, target_names=['Control', 'Aphasia'], digits=4))\n",
    "print('Baseline accuracy', max(np.mean(y_man), 1-np.mean(y_man)))"
   ]
  }
 ],
 "metadata": {
  "kernelspec": {
   "display_name": "Python 3",
   "language": "python",
   "name": "python3"
  },
  "language_info": {
   "codemirror_mode": {
    "name": "ipython",
    "version": 3
   },
   "file_extension": ".py",
   "mimetype": "text/x-python",
   "name": "python",
   "nbconvert_exporter": "python",
   "pygments_lexer": "ipython3",
   "version": "3.7.3"
  }
 },
 "nbformat": 4,
 "nbformat_minor": 4
}
